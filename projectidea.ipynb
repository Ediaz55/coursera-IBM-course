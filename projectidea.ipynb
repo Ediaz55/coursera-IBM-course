{
 "cells": [
  {
   "cell_type": "markdown",
   "metadata": {},
   "source": [
    "## Capstone project\n",
    "\n",
    "#### Idea of choice \n",
    "\n"
   ]
  },
  {
   "cell_type": "markdown",
   "metadata": {},
   "source": [
    "the general idea for this final project consist in the example given:\n",
    "\n",
    ">2. In a city of your choice, if someone is looking to open a restaurant, where would you recommend that they open it? Similarly, if a contractor is trying to start their own business, where would you recommend that they setup their office?\n",
    "\n",
    "Starting a business is a difficult feat, so if using the knowledge obtained in this IBM course we can help an entrepreneur fulfill his objective with less risk. This type of work can be a really good job opportunity in the future, there's always people with ideas of new projects and can be a good source of experience and employment.\n",
    "\n",
    "My idea for this project consist in find the feasibility of a new gymnasium in the city of Toronto, using the data of the city we can find  the best combination of a neighborhood with no fast food restaurants or bar nearby and few or none competitors. \n",
    "\n",
    "Why no fast food restaurants or bars nearby? because is a bad combination for the stile of the business, we need an environment full of healthiness and no distractions for the possible clients. A good or important venue would be a Health Food Store to people who really want to improve their lifestyle.\n",
    "\n",
    "We also want the lest amount of competitors for a solid and more easy start, and lastly if we find more than one valid option is even better because the client can choose based in other parameters like the building, the rent of this one and so on.\n"
   ]
  },
  {
   "cell_type": "code",
   "execution_count": null,
   "metadata": {},
   "outputs": [],
   "source": []
  }
 ],
 "metadata": {
  "kernelspec": {
   "display_name": "Python",
   "language": "python",
   "name": "conda-env-python-py"
  },
  "language_info": {
   "codemirror_mode": {
    "name": "ipython",
    "version": 3
   },
   "file_extension": ".py",
   "mimetype": "text/x-python",
   "name": "python",
   "nbconvert_exporter": "python",
   "pygments_lexer": "ipython3",
   "version": "3.6.10"
  }
 },
 "nbformat": 4,
 "nbformat_minor": 4
}
